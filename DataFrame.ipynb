{
 "cells": [
  {
   "cell_type": "markdown",
   "metadata": {},
   "source": [
    "# MyDataFrame Assignment:\n",
    "\n",
    "#### Programs to implement basic versions of some of the objects in Pandas\n",
    "\n",
    "#### Contains two classes: MySeries & MyDataFrame\n",
    "###### MySeries contains a constructor and the following 5 methods: s_dict, min, max, mean, print\n",
    "###### MyDataFrame contains a constructor and 5 methods also: print, sort_values, mean, min, max\n"
   ]
  },
  {
   "cell_type": "code",
   "execution_count": null,
   "metadata": {},
   "outputs": [],
   "source": [
    "class MySeries:\n",
    "    def __init__(self, diction, index = []):\n",
    "        self.diction = diction\n",
    "        self.index = index\n",
    "    @property\n",
    "    def s_dict(self):\n",
    "        #Checking if its a dictionary, if so return it \n",
    "        if isinstance(self.diction, dict):\n",
    "            return self.diction\n",
    "        else:\n",
    "            if len(self.index) == 0:\n",
    "                alt_diction = {}\n",
    "                # Indexing based on the length of diction\n",
    "                for i in range(len(self.diction)):\n",
    "                    alt_diction[i] = self.diction[i]\n",
    "                return alt_diction\n",
    "            else:\n",
    "                # Converting to dictonary\n",
    "                alt_diction = dict(zip(self.index, self.diction))\n",
    "                return alt_diction\n",
    "            \n",
    "    @property\n",
    "    def min(self):\n",
    "        self.allvalues = self.s_dict.values()\n",
    "        self.allkeys = self.s_dict.items()\n",
    "        min_value = min(self.allvalues)\n",
    "        #Where value equals the minimum value, return the key and value.\n",
    "        for key, value in self.allkeys:\n",
    "            if value == min_value:\n",
    "                return key, value\n",
    "            \n",
    "    @property\n",
    "    def max(self):\n",
    "        self.allvalues = self.s_dict.values()\n",
    "        self.allkeys = self.s_dict.items()\n",
    "        max_value = max(self.allvalues)\n",
    "        #Where value equals the maximum value, return the key and value.\n",
    "        for key, value in self.allkeys:\n",
    "            if value == max_value:\n",
    "                return key, value\n",
    "            \n",
    "    @property\n",
    "    def mean(self):\n",
    "        count = 0\n",
    "        _sum = 0\n",
    "        #Adding to _sum and dividing it by the iterations of count to get the mean\n",
    "        for key in self.s_dict:\n",
    "            count += 1\n",
    "            _sum += self.s_dict[key]\n",
    "        return _sum/count\n",
    "    \n",
    "    \n",
    "    def print(self):\n",
    "        for key, value in self.s_dict.items():\n",
    "            print(key, \" \", value)"
   ]
  },
  {
   "cell_type": "code",
   "execution_count": null,
   "metadata": {},
   "outputs": [],
   "source": [
    "from statistics import mean\n",
    "\n",
    "class MyDataFrame:\n",
    "    def __init__ (self, _dict, **kwargs):\n",
    "        self.new_diction = _dict\n",
    "        self.new_index = kwargs\n",
    "        dictlist = []\n",
    "        dictcopy = self.new_diction.copy()\n",
    "        dictlist.append(dictcopy)\n",
    "        #Calling MySeries class to get back a dictionary\n",
    "        self.old_dict = [MySeries(_dict) for i in range(len(dictlist))]\n",
    "        #Indexing accessing each object\n",
    "        self.list_dict = [self.old_dict[i].s_dict for i in range(len(self.old_dict))]\n",
    "        self.compile = [self.list_dict[0][c] for c in self.list_dict[0]]\n",
    "        for x in self.compile:\n",
    "            self.complete_dict = x\n",
    "        self.keys = [k for k in self.complete_dict]\n",
    "        self.value = []\n",
    "        \n",
    "        for y in self.keys:\n",
    "            self.value += [self.complete_dict[y]]\n",
    "        #Going to store each list value in the below\n",
    "        self.total_values = []\n",
    "        self.rows = []\n",
    "        #Looping to corresponding values in order\n",
    "        for s in range(len(self.value[0])):\n",
    "            self.total_values += [v[s] for v in self.value]\n",
    "        for t in range(0, len(self.total_values), len(self.value)):\n",
    "            self.rows += [self.total_values[t:t+len(self.value)]]\n",
    "\n",
    "        if self.new_index != None:\n",
    "            self.new_list = []\n",
    "            #Grabbing key and adding it to a new list\n",
    "            for q in self.new_index:\n",
    "                self.new_list += [n for n in self.new_index[q]]\n",
    "            self.var_value = [self.new_list] + self.value\n",
    "            #Complete list for values\n",
    "            self.complete_listval = []\n",
    "            #Indexing to add looped values\n",
    "            for i in range(len(self.var_value[0])):\n",
    "                self.complete_listval += [r[i] for r in self.var_value]\n",
    "\n",
    "            self.created_line = []\n",
    "            for t in range(0, len(self.complete_listval), len(self.var_value)):\n",
    "                self.created_line += [self.complete_listval[t:t+len(self.var_value)]]\n",
    "\n",
    "    def print(self):\n",
    "        formatting = \"{:>15}\" * (len(self.keys) + 1)\n",
    "        if self.new_index != {}:\n",
    "            print(formatting.format(\"\", *self.keys))\n",
    "            for line in self.created_line:\n",
    "                #Formatting and printing table\n",
    "                print(formatting.format(*line))\n",
    "        else:\n",
    "            print(formatting.format(\"\", *self.keys))\n",
    "            for row in self.rows:\n",
    "                print(formatting.format(\"\", *row))\n",
    "    \n",
    "    def sort_values(self, sortval):\n",
    "        if sortval in self.keys:\n",
    "            self.sorting = self.keys.index(sortval)\n",
    "            if self.new_index != {}:\n",
    "                self.created_line.sort(key = lambda new_line: new_line[self.sorting + 1])\n",
    "            else:\n",
    "                self.rows.sort(key = lambda line: line[self.sorting])\n",
    "        else:\n",
    "            print(\"Please enter a valid key\")\n",
    "\n",
    "    def mean(self):\n",
    "        self.mean = []\n",
    "        for k in self.keys:\n",
    "            #Ensuring there numbers - Error checking\n",
    "            if isinstance(self.complete_dict[k][0], (int, float)):\n",
    "                self.mean += [mean(self.complete_dict[k])]\n",
    "        for key, value in tuple(zip(self.keys, self.mean)):\n",
    "            print(\"{0:s} {1:.2f}\".format(key, float(value)))\n",
    "            \n",
    "    def min(self):\n",
    "        self.min = []\n",
    "        for k in self.keys:\n",
    "            #Ensuring there numbers - Error checking\n",
    "            if isinstance(self.complete_dict[k][0], (int, float)):\n",
    "                self.min += [min(self.complete_dict[k])]\n",
    "        for key, value in tuple(zip(self.keys, self.min)):\n",
    "            print(\"{0:s} {1:.2f}\".format(key, float(value)))\n",
    "             \n",
    "    def max(self):\n",
    "        self.max = []\n",
    "        for k in self.keys:\n",
    "            #Ensuring there numbers - Error checking\n",
    "            if isinstance(self.complete_dict[k][0], (int, float)):\n",
    "                self.max += [max(self.complete_dict[k])]\n",
    "        for key, value in tuple(zip(self.keys, self.max)):\n",
    "            print(\"{0:s} {1:.2f}\".format(key, float(value)))"
   ]
  },
  {
   "cell_type": "markdown",
   "metadata": {},
   "source": [
    "## MySeries:\n",
    "### Requirement 1"
   ]
  },
  {
   "cell_type": "code",
   "execution_count": null,
   "metadata": {},
   "outputs": [],
   "source": [
    "ms3 = MySeries([1, 2, 1], index = [\"a\", \"b\", \"c\"])\n",
    "ms3.s_dict"
   ]
  },
  {
   "cell_type": "code",
   "execution_count": null,
   "metadata": {},
   "outputs": [],
   "source": [
    "ms4 = MySeries([4, 5, 6])\n",
    "ms4.s_dict"
   ]
  },
  {
   "cell_type": "code",
   "execution_count": null,
   "metadata": {},
   "outputs": [],
   "source": [
    "d = {'b': 1, 'a': 0, 'c': 2}\n",
    "s2 = MySeries(d)\n",
    "s2.s_dict"
   ]
  },
  {
   "cell_type": "markdown",
   "metadata": {},
   "source": [
    "### Requirement 2:"
   ]
  },
  {
   "cell_type": "code",
   "execution_count": null,
   "metadata": {},
   "outputs": [],
   "source": [
    "s2.max"
   ]
  },
  {
   "cell_type": "code",
   "execution_count": null,
   "metadata": {},
   "outputs": [],
   "source": [
    "s2.min"
   ]
  },
  {
   "cell_type": "code",
   "execution_count": null,
   "metadata": {},
   "outputs": [],
   "source": [
    "s2.mean"
   ]
  },
  {
   "cell_type": "markdown",
   "metadata": {},
   "source": [
    "### Requirement 3:"
   ]
  },
  {
   "cell_type": "code",
   "execution_count": null,
   "metadata": {},
   "outputs": [],
   "source": [
    "s2.print()"
   ]
  },
  {
   "cell_type": "markdown",
   "metadata": {},
   "source": [
    "## MyDataFrame\n",
    "### Requirement 4:"
   ]
  },
  {
   "cell_type": "code",
   "execution_count": null,
   "metadata": {},
   "outputs": [],
   "source": [
    "d = [{\"Sun hours\": [4.5,4.0,5.1,5],\n",
    "     \"Max Temp\": [19.6,19.1,19.6,20.0],\n",
    "     \"Min Temp\": [12.7,12.5,13.3,12.1],\n",
    "     \"Rain (mm)\":[82,109,65,76],\n",
    "     \"Rain Days\":[13,20,10,9.7]}]\n",
    "df1 = MyDataFrame(d)\n",
    "df2 = MyDataFrame(d, index = ['Clare', 'Galway','Dublin','Wexford'])"
   ]
  },
  {
   "cell_type": "markdown",
   "metadata": {},
   "source": [
    "### Requirement 5:"
   ]
  },
  {
   "cell_type": "code",
   "execution_count": null,
   "metadata": {},
   "outputs": [],
   "source": [
    "df2.print()"
   ]
  },
  {
   "cell_type": "markdown",
   "metadata": {},
   "source": [
    "### Requirement 6:"
   ]
  },
  {
   "cell_type": "code",
   "execution_count": null,
   "metadata": {},
   "outputs": [],
   "source": [
    "df2.sort_values(\"Rain (mm)\")\n",
    "df2.print()"
   ]
  },
  {
   "cell_type": "markdown",
   "metadata": {},
   "source": [
    "### Requirement 7:"
   ]
  },
  {
   "cell_type": "code",
   "execution_count": null,
   "metadata": {},
   "outputs": [],
   "source": [
    "df2.mean()"
   ]
  },
  {
   "cell_type": "code",
   "execution_count": null,
   "metadata": {},
   "outputs": [],
   "source": [
    "df2.max()"
   ]
  },
  {
   "cell_type": "code",
   "execution_count": null,
   "metadata": {},
   "outputs": [],
   "source": [
    "df2.min()"
   ]
  }
 ],
 "metadata": {
  "kernelspec": {
   "display_name": "Python 3",
   "language": "python",
   "name": "python3"
  },
  "language_info": {
   "codemirror_mode": {
    "name": "ipython",
    "version": 3
   },
   "file_extension": ".py",
   "mimetype": "text/x-python",
   "name": "python",
   "nbconvert_exporter": "python",
   "pygments_lexer": "ipython3",
   "version": "3.8.3"
  }
 },
 "nbformat": 4,
 "nbformat_minor": 4
}
